{
 "cells": [
  {
   "cell_type": "code",
   "execution_count": 7,
   "metadata": {},
   "outputs": [],
   "source": [
    "import string\n",
    "import csv\n",
    "import json"
   ]
  },
  {
   "cell_type": "code",
   "execution_count": 11,
   "metadata": {},
   "outputs": [],
   "source": [
    "def get_all_words(text_name):\n",
    "    # Read in text\n",
    "    raw_text = open(text_name + \".txt\", \"r\").read()\n",
    "    \n",
    "    # Define shit to remove\n",
    "    words_to_remove = ['and', 'the', 'it', 'him', 'is', 'of', 'was', 'to', 'in', 'be', ';', 'a']\n",
    "    characters_to_remove = [',', '.', ';', ':', '1', '2', '3', '4', '5', '6', '7', '8', '9', '0', '(', ')' ]\n",
    "\n",
    "    # Remove Shit\n",
    "    text = ' '.join(i for i in raw_text.lower().split() if i not in words_to_remove)\n",
    "    text_clean = text\n",
    "    for character in characters_to_remove:\n",
    "        text_clean = text_clean.replace(character, '')    \n",
    "\n",
    "    # Make the alphabet\n",
    "    alphabet_string = string.ascii_lowercase\n",
    "    alphabet_list = list(alphabet_string)\n",
    "    \n",
    "    # Get unique set of words\n",
    "    word_list = text_clean.split()\n",
    "    word_list = list(set(word_list))\n",
    "    \n",
    "    # Define dict for words\n",
    "    lookup_dict = {}\n",
    "    for letter in alphabet_list:\n",
    "        lookup_dict[letter] = []\n",
    "        \n",
    "    # Assign all words to dict\n",
    "    for word in word_list:\n",
    "        if word[0] in alphabet_list:\n",
    "            blank_is_for = word[0]\n",
    "            lookup_dict[blank_is_for].append(word)\n",
    "    \n",
    "    # Write to CSV\n",
    "#     with open(text_name + '_words.csv', 'w') as csv_file:  \n",
    "#         writer = csv.writer(csv_file)\n",
    "#         for key, value in lookup_dict.items():\n",
    "#            writer.writerow([key, value])\n",
    "    # Write to JSON\n",
    "    \n",
    "    with open(text_name + '.json', 'w') as f:\n",
    "        json.dump(lookup_dict, f)\n"
   ]
  },
  {
   "cell_type": "code",
   "execution_count": 12,
   "metadata": {},
   "outputs": [],
   "source": [
    "# Get the bible\n",
    "\n",
    "get_all_words(\"bible\")\n",
    "get_all_words(\"order_of_the_phoenix\")\n",
    "get_all_words(\"war_and_peace\")\n",
    "get_all_words(\"fifty_shades\")"
   ]
  },
  {
   "cell_type": "code",
   "execution_count": null,
   "metadata": {},
   "outputs": [],
   "source": []
  }
 ],
 "metadata": {
  "kernelspec": {
   "display_name": "Python 3",
   "language": "python",
   "name": "python3"
  },
  "language_info": {
   "codemirror_mode": {
    "name": "ipython",
    "version": 3
   },
   "file_extension": ".py",
   "mimetype": "text/x-python",
   "name": "python",
   "nbconvert_exporter": "python",
   "pygments_lexer": "ipython3",
   "version": "3.7.3"
  }
 },
 "nbformat": 4,
 "nbformat_minor": 2
}
