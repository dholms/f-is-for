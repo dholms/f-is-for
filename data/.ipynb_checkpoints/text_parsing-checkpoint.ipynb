{
 "cells": [
  {
   "cell_type": "code",
   "execution_count": 1,
   "metadata": {},
   "outputs": [],
   "source": [
    "import string\n",
    "import csv"
   ]
  },
  {
   "cell_type": "code",
   "execution_count": 10,
   "metadata": {},
   "outputs": [],
   "source": [
    "# Get the bible\n",
    "raw_bible = open(\"bible.txt\", \"r\").read()"
   ]
  },
  {
   "cell_type": "code",
   "execution_count": null,
   "metadata": {},
   "outputs": [],
   "source": [
    "def get_all_words(some_text):\n",
    "    # Define shit to remove\n",
    "    words_to_remove = ['and', 'the', 'it', 'him', 'is', 'of', 'was', 'to', 'in', 'be', ';', 'a']\n",
    "    characters_to_remove = [',', '.', ';', ':', '1', '2', '3', '4', '5', '6', '7', '8', '9', '0' ]\n",
    "\n",
    "    # Remove Shit\n",
    "    text = ' '.join(i for i in some_text.lower().split() if i not in words_to_remove)\n",
    "    text_clean = text\n",
    "    for character in characters_to_remove:\n",
    "        text_clean = text_clean.replace(character, '')    \n",
    "\n",
    "    # Make the alphabet\n",
    "    alphabet_string = string.ascii_lowercase\n",
    "    alphabet_list = list(alphabet_string)\n",
    "    "
   ]
  },
  {
   "cell_type": "code",
   "execution_count": 3,
   "metadata": {},
   "outputs": [],
   "source": [
    "\n"
   ]
  },
  {
   "cell_type": "code",
   "execution_count": 4,
   "metadata": {},
   "outputs": [],
   "source": [
    "# Remove Shit\n",
    "bible = ' '.join(i for i in raw_bible.lower().split() if i not in words_to_remove)\n",
    "bible_clean = bible\n",
    "for character in characters_to_remove:\n",
    "    bible_clean = bible_clean.replace(character, '')"
   ]
  },
  {
   "cell_type": "code",
   "execution_count": null,
   "metadata": {},
   "outputs": [],
   "source": []
  },
  {
   "cell_type": "code",
   "execution_count": 5,
   "metadata": {},
   "outputs": [],
   "source": [
    "# Make the alphabet\n",
    "alphabet_string = string.ascii_lowercase\n",
    "alphabet_list = list(alphabet_string)"
   ]
  },
  {
   "cell_type": "code",
   "execution_count": 6,
   "metadata": {},
   "outputs": [],
   "source": [
    "# Get unique set of words\n",
    "bible_word_list = bible_clean.split()\n",
    "bible_word_list = list(set(bible_word_list))"
   ]
  },
  {
   "cell_type": "code",
   "execution_count": 7,
   "metadata": {},
   "outputs": [],
   "source": [
    "# Define dict for words\n",
    "lookup_dict = {}\n",
    "for letter in alphabet_list:\n",
    "    lookup_dict[letter] = []"
   ]
  },
  {
   "cell_type": "code",
   "execution_count": 8,
   "metadata": {},
   "outputs": [],
   "source": [
    "# Assign all words to dict\n",
    "for word in bible_word_list:\n",
    "    if word[0] in alphabet_list:\n",
    "        blank_is_for = word[0]\n",
    "        lookup_dict[blank_is_for].append(word)"
   ]
  },
  {
   "cell_type": "code",
   "execution_count": 9,
   "metadata": {},
   "outputs": [],
   "source": [
    "# Write to CSV\n",
    "with open('bible_words.csv', 'w') as csv_file:  \n",
    "    writer = csv.writer(csv_file)\n",
    "    for key, value in lookup_dict.items():\n",
    "       writer.writerow([key, value])"
   ]
  },
  {
   "cell_type": "code",
   "execution_count": null,
   "metadata": {},
   "outputs": [],
   "source": []
  }
 ],
 "metadata": {
  "kernelspec": {
   "display_name": "Python 3",
   "language": "python",
   "name": "python3"
  },
  "language_info": {
   "codemirror_mode": {
    "name": "ipython",
    "version": 3
   },
   "file_extension": ".py",
   "mimetype": "text/x-python",
   "name": "python",
   "nbconvert_exporter": "python",
   "pygments_lexer": "ipython3",
   "version": "3.7.3"
  }
 },
 "nbformat": 4,
 "nbformat_minor": 2
}
